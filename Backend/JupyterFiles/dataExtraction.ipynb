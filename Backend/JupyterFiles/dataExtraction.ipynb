{
 "cells": [
  {
   "cell_type": "code",
   "execution_count": 1,
   "metadata": {},
   "outputs": [
    {
     "name": "stdout",
     "output_type": "stream",
     "text": [
      "argon2-cffi @ file:///C:/ci/argon2-cffi_1613037829118/work\n",
      "async-generator==1.10\n",
      "attrs @ file:///opt/conda/conda-bld/attrs_1642510447205/work\n",
      "backcall @ file:///home/ktietz/src/ci/backcall_1611930011877/work\n",
      "bleach @ file:///opt/conda/conda-bld/bleach_1641577558959/work\n",
      "certifi==2021.5.30\n",
      "cffi @ file:///C:/ci/cffi_1625831763871/work\n",
      "charset-normalizer==2.0.12\n",
      "click==8.0.4\n",
      "colorama @ file:///tmp/build/80754af9/colorama_1607707115595/work\n",
      "cycler @ file:///tmp/build/80754af9/cycler_1637851556182/work\n",
      "dataclasses==0.8\n",
      "decorator @ file:///opt/conda/conda-bld/decorator_1643638310831/work\n",
      "defusedxml @ file:///tmp/build/80754af9/defusedxml_1615228127516/work\n",
      "entrypoints==0.3\n",
      "idna==3.4\n",
      "imbalanced-learn==0.8.1\n",
      "importlib-metadata @ file:///C:/ci/importlib-metadata_1631916885413/work\n",
      "importlib-resources==5.4.0\n",
      "ipykernel @ file:///C:/ci/ipykernel_1596206775157/work/dist/ipykernel-5.3.4-py3-none-any.whl\n",
      "ipython @ file:///C:/ci/ipython_1593446240034/work\n",
      "ipython-genutils @ file:///tmp/build/80754af9/ipython_genutils_1606773439826/work\n",
      "ipywidgets @ file:///tmp/build/80754af9/ipywidgets_1634143127070/work\n",
      "jedi==0.17.0\n",
      "Jinja2 @ file:///opt/conda/conda-bld/jinja2_1647436528585/work\n",
      "joblib @ file:///tmp/build/80754af9/joblib_1613502643832/work\n",
      "jsonschema @ file:///Users/ktietz/demo/mc3/conda-bld/jsonschema_1630511932244/work\n",
      "jupyter==1.0.0\n",
      "jupyter-client @ file:///opt/conda/conda-bld/jupyter_client_1643638337975/work\n",
      "jupyter-console @ file:///opt/conda/conda-bld/jupyter_console_1647002188872/work\n",
      "jupyter-core @ file:///C:/ci/jupyter_core_1633402348205/work\n",
      "jupyterlab-pygments @ file:///tmp/build/80754af9/jupyterlab_pygments_1601490720602/work\n",
      "jupyterlab-widgets @ file:///tmp/build/80754af9/jupyterlab_widgets_1609884341231/work\n",
      "kiwisolver @ file:///C:/ci/kiwisolver_1612282446297/work\n",
      "lxml==5.2.1\n",
      "MarkupSafe @ file:///C:/ci/markupsafe_1621528313524/work\n",
      "matplotlib @ file:///C:/ci/matplotlib-suite_1613408055530/work\n",
      "mistune==0.8.4\n",
      "mkl-fft==1.3.0\n",
      "mkl-random==1.1.1\n",
      "mkl-service==2.3.0\n",
      "nbclient @ file:///tmp/build/80754af9/nbclient_1614364831625/work\n",
      "nbconvert @ file:///C:/ci/nbconvert_1601896775581/work\n",
      "nbformat @ file:///tmp/build/80754af9/nbformat_1617383369282/work\n",
      "nest-asyncio @ file:///tmp/build/80754af9/nest-asyncio_1613680548246/work\n",
      "nltk==3.6.7\n",
      "notebook @ file:///C:/ci/notebook_1629205950149/work\n",
      "numpy @ file:///C:/ci/numpy_and_numpy_base_1603480701039/work\n",
      "olefile==0.46\n",
      "packaging @ file:///tmp/build/80754af9/packaging_1637314298585/work\n",
      "pandas @ file:///C:/ci/pandas_1608056614942/work\n",
      "pandocfilters @ file:///opt/conda/conda-bld/pandocfilters_1643405455980/work\n",
      "parso @ file:///opt/conda/conda-bld/parso_1641458642106/work\n",
      "pickleshare @ file:///tmp/build/80754af9/pickleshare_1606932040724/work\n",
      "Pillow @ file:///C:/ci/pillow_1625663293114/work\n",
      "prometheus-client @ file:///opt/conda/conda-bld/prometheus_client_1643788673601/work\n",
      "prompt-toolkit @ file:///tmp/build/80754af9/prompt-toolkit_1633440160888/work\n",
      "pycparser @ file:///tmp/build/80754af9/pycparser_1636541352034/work\n",
      "Pygments @ file:///opt/conda/conda-bld/pygments_1644249106324/work\n",
      "pyparsing @ file:///tmp/build/80754af9/pyparsing_1635766073266/work\n",
      "PyPDF2==3.0.1\n",
      "pyrsistent @ file:///C:/ci/pyrsistent_1600141799440/work\n",
      "python-dateutil @ file:///tmp/build/80754af9/python-dateutil_1626374649649/work\n",
      "python-docx==0.8.11\n",
      "pytz==2021.3\n",
      "pywin32==228\n",
      "pywinpty==0.5.7\n",
      "pyzmq @ file:///C:/ci/pyzmq_1628276569449/work\n",
      "qtconsole @ file:///opt/conda/conda-bld/qtconsole_1643819126524/work\n",
      "QtPy @ file:///opt/conda/conda-bld/qtpy_1649073884068/work\n",
      "regex==2023.8.8\n",
      "scikit-learn==0.24.2\n",
      "scipy @ file:///C:/ci/scipy_1597675683670/work\n",
      "seaborn==0.11.2\n",
      "Send2Trash @ file:///tmp/build/80754af9/send2trash_1632406701022/work\n",
      "six @ file:///tmp/build/80754af9/six_1644875935023/work\n",
      "terminado==0.9.4\n",
      "testpath @ file:///tmp/build/80754af9/testpath_1624638946665/work\n",
      "threadpoolctl==3.1.0\n",
      "tornado @ file:///C:/ci/tornado_1606942379977/work\n",
      "tqdm==4.64.1\n",
      "traitlets @ file:///C:/ci/traitlets_1632759765830/work\n",
      "typing_extensions @ file:///opt/conda/conda-bld/typing_extensions_1647553014482/work\n",
      "urllib3==1.26.18\n",
      "wcwidth @ file:///Users/ktietz/demo/mc3/conda-bld/wcwidth_1629357192024/work\n",
      "webencodings==0.5.1\n",
      "widgetsnbextension==3.5.1\n",
      "wincertstore==0.2\n",
      "word2number==1.1\n",
      "zipp @ file:///tmp/build/80754af9/zipp_1633618647012/work\n",
      "Note: you may need to restart the kernel to use updated packages.\n"
     ]
    }
   ],
   "source": [
    "pip freeze"
   ]
  },
  {
   "cell_type": "code",
   "execution_count": 2,
   "metadata": {},
   "outputs": [],
   "source": [
    "import os\n",
    "import pandas as pd\n",
    "from PyPDF2 import PdfReader\n",
    "import re"
   ]
  },
  {
   "cell_type": "code",
   "execution_count": 3,
   "metadata": {},
   "outputs": [],
   "source": [
    "def extract_text_from_pdf(pdf_path):\n",
    "    try:\n",
    "        reader = PdfReader(pdf_path)\n",
    "        text = \"\"\n",
    "        for page in reader.pages:\n",
    "            text += page.extract_text()\n",
    "        return text.strip()\n",
    "    except Exception as e:\n",
    "        print(f\"Error reading {pdf_path}: {e}\")\n",
    "        return \"\""
   ]
  },
  {
   "cell_type": "code",
   "execution_count": 27,
   "metadata": {},
   "outputs": [],
   "source": [
    "def extract_text_from_file(file_path):\n",
    "    try:\n",
    "        with open(file_path, 'r', encoding='utf-8') as file:\n",
    "            return file.read()\n",
    "    except Exception as e:\n",
    "        print(f\"Error reading file: {e}\")\n",
    "        return \"\"\n"
   ]
  },
  {
   "cell_type": "code",
   "execution_count": 28,
   "metadata": {},
   "outputs": [],
   "source": [
    "def clean_text(text):\n",
    "    text = re.sub(r'\\s+', ' ', text)  # Replace multiple spaces/newlines with single space\n",
    "    return text.strip()"
   ]
  },
  {
   "cell_type": "code",
   "execution_count": 29,
   "metadata": {},
   "outputs": [],
   "source": [
    "def process_dataset(base_path):\n",
    "    data = []\n",
    "    for student_folder in os.listdir(base_path):\n",
    "        student_path = os.path.join(base_path, student_folder)\n",
    "        if os.path.isdir(student_path):\n",
    "            resume_path = os.path.join(student_path, \"resume.pdf\")\n",
    "            job_desc_path = os.path.join(student_path, \"jd.txt\")\n",
    "            \n",
    "            # Extract texts\n",
    "            resume_text = extract_text_from_pdf(resume_path) if os.path.exists(resume_path) else \"\"\n",
    "            job_desc_text = extract_text_from_file(job_desc_path) if os.path.exists(job_desc_path) else \"\"\n",
    "            \n",
    "            # Clean and store data\n",
    "            data.append({\n",
    "                \"Student Name\": student_folder,\n",
    "                \"Resume Text\": clean_text(resume_text),\n",
    "                \"Job Description Text\": clean_text(job_desc_text)\n",
    "            })\n",
    "    \n",
    "    return pd.DataFrame(data)"
   ]
  },
  {
   "cell_type": "code",
   "execution_count": 30,
   "metadata": {},
   "outputs": [],
   "source": [
    "base_directory = r\"C:\\Users\\vshvs\\OneDrive\\Desktop\\BEProject\\placement_prediction\\Backend\\uploads\\dataset\\Resumes\""
   ]
  },
  {
   "cell_type": "code",
   "execution_count": 31,
   "metadata": {},
   "outputs": [],
   "source": [
    "dataset = process_dataset(base_directory)"
   ]
  },
  {
   "cell_type": "code",
   "execution_count": 32,
   "metadata": {},
   "outputs": [
    {
     "data": {
      "text/html": [
       "<div>\n",
       "<style scoped>\n",
       "    .dataframe tbody tr th:only-of-type {\n",
       "        vertical-align: middle;\n",
       "    }\n",
       "\n",
       "    .dataframe tbody tr th {\n",
       "        vertical-align: top;\n",
       "    }\n",
       "\n",
       "    .dataframe thead th {\n",
       "        text-align: right;\n",
       "    }\n",
       "</style>\n",
       "<table border=\"1\" class=\"dataframe\">\n",
       "  <thead>\n",
       "    <tr style=\"text-align: right;\">\n",
       "      <th></th>\n",
       "      <th>Student Name</th>\n",
       "      <th>Resume Text</th>\n",
       "      <th>Job Description Text</th>\n",
       "    </tr>\n",
       "  </thead>\n",
       "  <tbody>\n",
       "    <tr>\n",
       "      <th>0</th>\n",
       "      <td>Aman</td>\n",
       "      <td>AMAN KOCHAREKAR Pune,India |+91-9022957217 |am...</td>\n",
       "      <td></td>\n",
       "    </tr>\n",
       "    <tr>\n",
       "      <th>1</th>\n",
       "      <td>Anjali</td>\n",
       "      <td>ProjectsEducation Technical Skills Course Work...</td>\n",
       "      <td>Job Location Pune Educational Qualification (P...</td>\n",
       "    </tr>\n",
       "    <tr>\n",
       "      <th>2</th>\n",
       "      <td>Anurag_karpe</td>\n",
       "      <td>Anurag Karpe +918805318256 | amkarperag@gmail....</td>\n",
       "      <td>Job description Job Title: AI / Deep Learning ...</td>\n",
       "    </tr>\n",
       "    <tr>\n",
       "      <th>3</th>\n",
       "      <td>Ashwin</td>\n",
       "      <td>Ashwin Lavate Github |Portfolio |LinkedIn |ash...</td>\n",
       "      <td></td>\n",
       "    </tr>\n",
       "    <tr>\n",
       "      <th>4</th>\n",
       "      <td>Atharv_kale</td>\n",
       "      <td>STUDENTATHARV KALE Android App Development Des...</td>\n",
       "      <td>Job Description: Software Engineer (Intern) – ...</td>\n",
       "    </tr>\n",
       "  </tbody>\n",
       "</table>\n",
       "</div>"
      ],
      "text/plain": [
       "   Student Name                                        Resume Text  \\\n",
       "0          Aman  AMAN KOCHAREKAR Pune,India |+91-9022957217 |am...   \n",
       "1        Anjali  ProjectsEducation Technical Skills Course Work...   \n",
       "2  Anurag_karpe  Anurag Karpe +918805318256 | amkarperag@gmail....   \n",
       "3        Ashwin  Ashwin Lavate Github |Portfolio |LinkedIn |ash...   \n",
       "4   Atharv_kale  STUDENTATHARV KALE Android App Development Des...   \n",
       "\n",
       "                                Job Description Text  \n",
       "0                                                     \n",
       "1  Job Location Pune Educational Qualification (P...  \n",
       "2  Job description Job Title: AI / Deep Learning ...  \n",
       "3                                                     \n",
       "4  Job Description: Software Engineer (Intern) – ...  "
      ]
     },
     "execution_count": 32,
     "metadata": {},
     "output_type": "execute_result"
    }
   ],
   "source": [
    "dataset.head()"
   ]
  },
  {
   "cell_type": "code",
   "execution_count": 33,
   "metadata": {},
   "outputs": [
    {
     "data": {
      "text/plain": [
       "'AMAN KOCHAREKAR Pune,India |+91-9022957217 |amankocharekar17@gmail.com |linkedin.com/in/amankocharekar EDUCATION Pimpri Chinchwad College of Engineering and Research June 2025 Bachelor of Engineering in Computer Engineering CGP A : 8.68 City Pride Junior College June 2021 Maharashtra State Board of Secondary and Higher Secondary Education, Pune Percentage : 90.33 Vidya Niketan English Medium School, Pimpri June 2019 Maharashtra State Board of Secondary and Higher Secondary Education, Pune Percentage : 91 WORK EXPERIENCE Data Science Intern July 2023 - Present Defence Institute of Advanced T echnology , Defence Research and Development Organisation(DRDO) Pune, India •Delivered multiple presentations on various topics, including different clustering methodologies, UMAP , and deep learning models, showcasing the ability to communicate complex ideas effectively . •Constructed a next word predictor using LSTM , with an accuracy of 80+ , highlighting proficiency in natural language processing and deep learning , while enhancing language modeling and predictive text capabilities. •Designed and executed a comprehensive clustering project generating results for various types of clustering algorithms like K-Means, DBScan and Hierarchical clustering. •Built a Fraud Detection system focuses to highlight suspicious and fraudulent activities using Logistic Regression and Random Forests with 85+ accuracy . PROJECTS Web Scrapper | Github An application which can scraps the real time reviews of any product on Flipkart. •Developed a Flask application enabling users to search for products on Flipkart and access product reviews. •Implemented BeautifulSoup to parse HTML data from Flipkart website, extracting review data with 95 percent accuracy ; stored results in a CSV file and showcased them on a user-friendly web UI. •T echstack – HTML, CSS, Javascript, Flask, requests, bs4, jsonify. Kisan Samartha | Github Empowering Indian farmers, connecting customers, and promoting sustainable agriculture through tool rentals. •Developed a user-friendly website that allows farmers to lend their equipment and sell products directly to customers , bypassing intermediaries and earning higher profits. •Improved website usability, streamlining navigation and delivering essential information to empower farmers, leading to a 40% uptick in their capacity to lease agricultural machinery and market their produce. •T echstack – HTML, CSS, Javascript, NodeJs, MySQL. VOLUNTARY EXPERIENCE VPOC(Volunteer Point of Contact) |GDSC WOW Pune Feb 2023 - Apr 2023 •Managed a team of 20 volunteers as VPOC for GDSC Wow, a citywide event in Pune, overseeing registration and distribution of materials to over 1000 participants. Executive |Google Developer Students Club, PCCOER Sep 2022 - Jul 2023 •Organized GDSC club activities to help new students learn Flutter ,Google Cloud ,Firebase , and Android Compose helping 100+ students. Technical Team |Association for Computing Machinery, PCCOER Sep 2022 - Jul 2023 •Planned and executed a 3-round tech event with 50+ participants as part of the organizing team for ”Bro Code” under our college’s technical fest. SKILLS Programming Languages |Python, Java, C, C++ Web Development |HTML, CSS, JavaScript, Bootstrap,SQL Machine Learning |Linear Regression, Logistic Regression, Decision T rees, Random Forests, KNN, KMeans, Hierarchical Clustering, DBSCAN, PCA, t-SNE,UMAP ,SVM Deep Learning |Artificial Neural Networks, Convolutional Neural Networks, Recurrent Neural Network, LSTM Natural Language Processing |n-gram, LSTM Git and Github |Version Control'"
      ]
     },
     "execution_count": 33,
     "metadata": {},
     "output_type": "execute_result"
    }
   ],
   "source": [
    "dataset.loc[0,\"Resume Text\"]"
   ]
  },
  {
   "cell_type": "code",
   "execution_count": 34,
   "metadata": {},
   "outputs": [
    {
     "data": {
      "text/plain": [
       "3593"
      ]
     },
     "execution_count": 34,
     "metadata": {},
     "output_type": "execute_result"
    }
   ],
   "source": [
    "len(dataset.loc[0,\"Resume Text\"])"
   ]
  },
  {
   "cell_type": "code",
   "execution_count": 35,
   "metadata": {},
   "outputs": [],
   "source": [
    "output_csv = base_directory + \"structured_dataset.csv\"\n",
    "dataset.to_csv(output_csv, index=False)"
   ]
  },
  {
   "cell_type": "code",
   "execution_count": null,
   "metadata": {},
   "outputs": [],
   "source": []
  }
 ],
 "metadata": {
  "kernelspec": {
   "display_name": "env",
   "language": "python",
   "name": "python3"
  },
  "language_info": {
   "codemirror_mode": {
    "name": "ipython",
    "version": 3
   },
   "file_extension": ".py",
   "mimetype": "text/x-python",
   "name": "python",
   "nbconvert_exporter": "python",
   "pygments_lexer": "ipython3",
   "version": "3.6.9"
  }
 },
 "nbformat": 4,
 "nbformat_minor": 2
}
